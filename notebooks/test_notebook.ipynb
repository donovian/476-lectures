{
 "cells": [
  {
   "cell_type": "code",
   "execution_count": 1,
   "metadata": {},
   "outputs": [],
   "source": [
    "# boilerplate setup\n",
    "%load_ext autoreload\n",
    "%autoreload 2\n",
    "\n",
    "%matplotlib inline\n",
    "\n",
    "import os\n",
    "import sys\n",
    "\n",
    "src_path = os.path.abspath(\"../src\")\n",
    "if (src_path not in sys.path):\n",
    "    sys.path.insert(0, src_path)\n",
    "\n",
    "# Library imports\n",
    "import numpy as np\n",
    "import imageio.v3 as imageio\n",
    "import matplotlib.pyplot as plt\n",
    "import skimage as skim\n",
    "import cv2\n",
    "\n",
    "# codebase imports\n",
    "import util\n",
    "import filtering\n",
    "import features\n",
    "import geometry"
   ]
  },
  {
   "cell_type": "code",
   "execution_count": 7,
   "metadata": {},
   "outputs": [
    {
     "name": "stdout",
     "output_type": "stream",
     "text": [
      "2125\n"
     ]
    },
    {
     "ename": "ValueError",
     "evalue": "too many values to unpack (expected 2)",
     "output_type": "error",
     "traceback": [
      "\u001b[0;31m---------------------------------------------------------------------------\u001b[0m",
      "\u001b[0;31mValueError\u001b[0m                                Traceback (most recent call last)",
      "\u001b[1;32m/Users/iand/Desktop/CompVis/476-lectures/notebooks/test_notebook.ipynb Cell 2\u001b[0m line \u001b[0;36m7\n\u001b[1;32m      <a href='vscode-notebook-cell:/Users/iand/Desktop/CompVis/476-lectures/notebooks/test_notebook.ipynb#W1sZmlsZQ%3D%3D?line=4'>5</a>\u001b[0m img2 \u001b[39m=\u001b[39m imageio\u001b[39m.\u001b[39mimread(\u001b[39m\"\u001b[39m\u001b[39m../data/yos2.jpg\u001b[39m\u001b[39m\"\u001b[39m)\n\u001b[1;32m      <a href='vscode-notebook-cell:/Users/iand/Desktop/CompVis/476-lectures/notebooks/test_notebook.ipynb#W1sZmlsZQ%3D%3D?line=5'>6</a>\u001b[0m img2 \u001b[39m=\u001b[39m skim\u001b[39m.\u001b[39mcolor\u001b[39m.\u001b[39mrgb2gray(img2\u001b[39m.\u001b[39mastype(np\u001b[39m.\u001b[39mfloat32) \u001b[39m/\u001b[39m \u001b[39m255\u001b[39m)\n\u001b[0;32m----> <a href='vscode-notebook-cell:/Users/iand/Desktop/CompVis/476-lectures/notebooks/test_notebook.ipynb#W1sZmlsZQ%3D%3D?line=6'>7</a>\u001b[0m match_images(img1, img2, \u001b[39m0.01\u001b[39;49m)\n",
      "File \u001b[0;32m~/Desktop/CompVis/476-lectures/src/features.py:185\u001b[0m, in \u001b[0;36mmatch_images\u001b[0;34m(img1, img2, thresh)\u001b[0m\n\u001b[1;32m    183\u001b[0m \u001b[39mfor\u001b[39;00m point \u001b[39min\u001b[39;00m img1_points:\n\u001b[1;32m    184\u001b[0m     \u001b[39mprint\u001b[39m(\u001b[39mlen\u001b[39m(point))\n\u001b[0;32m--> 185\u001b[0m     img1_mops\u001b[39m.\u001b[39mappend(extract_MOPS(img1, point))\n\u001b[1;32m    187\u001b[0m img2_mops \u001b[39m=\u001b[39m []\n\u001b[1;32m    188\u001b[0m \u001b[39mfor\u001b[39;00m point \u001b[39min\u001b[39;00m img2_points:\n",
      "File \u001b[0;32m~/Desktop/CompVis/476-lectures/src/features.py:40\u001b[0m, in \u001b[0;36mextract_MOPS\u001b[0;34m(img, point)\u001b[0m\n\u001b[1;32m     37\u001b[0m \u001b[39m\u001b[39m\u001b[39m\"\"\" point is in (j, i) format so it can be treated as (x, y) with origin\u001b[39;00m\n\u001b[1;32m     38\u001b[0m \u001b[39min the top left \"\"\"\u001b[39;00m\n\u001b[1;32m     39\u001b[0m \u001b[39m# translate center patch to origin\u001b[39;00m\n\u001b[0;32m---> 40\u001b[0m y, x \u001b[39m=\u001b[39m point\n\u001b[1;32m     41\u001b[0m tx1 \u001b[39m=\u001b[39m np\u001b[39m.\u001b[39marray([\n\u001b[1;32m     42\u001b[0m     [\u001b[39m1\u001b[39m, \u001b[39m0\u001b[39m, \u001b[39m-\u001b[39mx],\n\u001b[1;32m     43\u001b[0m     [\u001b[39m0\u001b[39m, \u001b[39m1\u001b[39m, \u001b[39m-\u001b[39my],\n\u001b[1;32m     44\u001b[0m     [\u001b[39m0\u001b[39m, \u001b[39m0\u001b[39m, \u001b[39m1\u001b[39m]], dtype\u001b[39m=\u001b[39mnp\u001b[39m.\u001b[39mfloat32)\n\u001b[1;32m     46\u001b[0m \u001b[39m# scale down by 1/8\u001b[39;00m\n",
      "\u001b[0;31mValueError\u001b[0m: too many values to unpack (expected 2)"
     ]
    }
   ],
   "source": [
    "from features import match_images\n",
    "\n",
    "img1 = imageio.imread(\"../data/yos1.jpg\")\n",
    "img1 = skim.color.rgb2gray(img1.astype(np.float32) / 255)\n",
    "img2 = imageio.imread(\"../data/yos2.jpg\")\n",
    "img2 = skim.color.rgb2gray(img2.astype(np.float32) / 255)\n",
    "match_images(img1, img2, 0.01)"
   ]
  }
 ],
 "metadata": {
  "kernelspec": {
   "display_name": ".venv",
   "language": "python",
   "name": "python3"
  },
  "language_info": {
   "codemirror_mode": {
    "name": "ipython",
    "version": 3
   },
   "file_extension": ".py",
   "mimetype": "text/x-python",
   "name": "python",
   "nbconvert_exporter": "python",
   "pygments_lexer": "ipython3",
   "version": "3.11.3"
  }
 },
 "nbformat": 4,
 "nbformat_minor": 2
}
